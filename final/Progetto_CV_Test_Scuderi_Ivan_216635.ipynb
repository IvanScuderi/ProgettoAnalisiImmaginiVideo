{
 "cells": [
  {
   "cell_type": "markdown",
   "id": "da8fe513",
   "metadata": {},
   "source": [
    "# Progetto CV: A.A 2020-2021"
   ]
  },
  {
   "cell_type": "markdown",
   "id": "2c615fab",
   "metadata": {},
   "source": [
    "## Candidato: Scuderi Ivan, 216635"
   ]
  },
  {
   "cell_type": "markdown",
   "id": "bc069d38",
   "metadata": {},
   "source": [
    "## Notebook di Test"
   ]
  },
  {
   "cell_type": "markdown",
   "id": "2a31644e",
   "metadata": {},
   "source": [
    "### Import preliminari"
   ]
  },
  {
   "cell_type": "code",
   "execution_count": 1,
   "id": "6c4fa372",
   "metadata": {},
   "outputs": [
    {
     "name": "stdout",
     "output_type": "stream",
     "text": [
      "Run on cuda!\n"
     ]
    }
   ],
   "source": [
    "SEED = 9246\n",
    "\n",
    "import os\n",
    "import math\n",
    "import json\n",
    "import time\n",
    "from datetime import datetime\n",
    "import collections\n",
    "import torch\n",
    "import torch.nn as nn\n",
    "import torch.nn.functional as F\n",
    "from torch.utils.data import Dataset, DataLoader\n",
    "import torchvision\n",
    "from torchvision import models\n",
    "\n",
    "from PIL import Image\n",
    "\n",
    "from skimage import io\n",
    "import pandas as pd\n",
    "import numpy as np\n",
    "import cv2\n",
    "np.random.seed(SEED)\n",
    "\n",
    "import matplotlib.pyplot as plt\n",
    "%matplotlib inline\n",
    "import seaborn as sns\n",
    "\n",
    "from sklearn.metrics import classification_report\n",
    "from sklearn.metrics import precision_recall_fscore_support\n",
    "\n",
    "\n",
    "import torchsummary\n",
    "from libsvm import svmutil\n",
    "from brisque import BRISQUE\n",
    "\n",
    "torch.manual_seed(SEED)\n",
    "torch.backends.cudnn.deterministic = True\n",
    "torch.backends.cudnn.benchmark = False\n",
    "\n",
    "\n",
    "CUDA = torch.cuda.is_available()\n",
    "device = torch.device(\"cuda\" if CUDA else \"cpu\")\n",
    "\n",
    "if CUDA:\n",
    "    print('Run on cuda!')"
   ]
  },
  {
   "cell_type": "markdown",
   "id": "40b06800",
   "metadata": {},
   "source": [
    "### Funzioni di utilità"
   ]
  },
  {
   "cell_type": "code",
   "execution_count": 2,
   "id": "5de5f013",
   "metadata": {},
   "outputs": [],
   "source": [
    "def count_parameters(model):\n",
    "    return sum(p.numel() for p in model.parameters() if p.requires_grad)\n",
    "\n",
    "def test(model, topk=10):\n",
    "    print('Start testing the model ( topk = ',topk,')')\n",
    "    predictions = []\n",
    "    y_true = []\n",
    "    model.eval()\n",
    "    with torch.no_grad():\n",
    "        for x, y in testDataLoader:\n",
    "            x, y = x.to(device), y.to(device)\n",
    "            y_pred = model(x)\n",
    "            _, idx = y_pred.topk(topk, dim=1)\n",
    "            y_pred = torch.zeros_like(y_pred)\n",
    "            \n",
    "            y_pred.scatter_(1, idx, 1)\n",
    "            predictions.append(y_pred.cpu())\n",
    "\n",
    "            y_true.append(y.cpu())\n",
    "    y_true, predictions = torch.cat(y_true, axis=0), torch.cat(predictions, axis=0)\n",
    "    pr,re,f1,_ =precision_recall_fscore_support(y_true, predictions, average='micro')\n",
    "    print(\"Test END: -- m_precision = \",np.round(pr,2), \" -- m_recall = \",np.round(re,2),\" -- m_f1 = \",np.round(f1,2))"
   ]
  },
  {
   "cell_type": "markdown",
   "id": "440d4615",
   "metadata": {},
   "source": [
    "### Caricamento Dati"
   ]
  },
  {
   "cell_type": "code",
   "execution_count": 3,
   "id": "8e758cad",
   "metadata": {},
   "outputs": [],
   "source": [
    "DATASET_DIR = r'D:\\1997i\\Desktop\\Magistrale\\esami\\secondo anno\\secondo semestre\\Analisi di Immagini e Video\\progetto\\progetto_2021_dataset_preproc\\progetto_2021_dataset_labeled'\n",
    "DRIVE_FOLDER = r'D:\\1997i\\Documenti\\-- Notebook Analisi Immagini e Video\\progetto\\final\\model_checkpoint'"
   ]
  },
  {
   "cell_type": "code",
   "execution_count": 4,
   "id": "f860579f",
   "metadata": {},
   "outputs": [
    {
     "name": "stdout",
     "output_type": "stream",
     "text": [
      "Numero di etichette del dataset labeled:  85\n"
     ]
    }
   ],
   "source": [
    "JSON_DATA = os.path.join(DATASET_DIR, 'train_test_split_dict.json')\n",
    "\n",
    "with open(JSON_DATA) as fp:\n",
    "    dataset_json = json.load(fp)\n",
    "\n",
    "labels = set()\n",
    "\n",
    "for k in dataset_json.values():\n",
    "    for lable_list in k.values():\n",
    "        for v in lable_list:\n",
    "            labels.add(v)\n",
    "            \n",
    "label_idx = {v: i for i, v in enumerate(sorted(labels))}\n",
    "\n",
    "print('Numero di etichette del dataset labeled: ', len(label_idx))"
   ]
  },
  {
   "cell_type": "code",
   "execution_count": 5,
   "id": "0c193d84",
   "metadata": {},
   "outputs": [
    {
     "name": "stdout",
     "output_type": "stream",
     "text": [
      "Dimensione Dataset Test :  1112\n"
     ]
    }
   ],
   "source": [
    "from utils_proc_shuffle import VideoDataset\n",
    "\n",
    "limit = 20\n",
    "\n",
    "datasetTest = VideoDataset(DATASET_DIR, dataset_json['test'], label_idx, limit, train=False, shuffle=False)\n",
    "\n",
    "print('Dimensione Dataset Test : ', len(datasetTest))"
   ]
  },
  {
   "cell_type": "code",
   "execution_count": 6,
   "id": "706ee9fd",
   "metadata": {},
   "outputs": [
    {
     "name": "stdout",
     "output_type": "stream",
     "text": [
      "Numero di batch complessivi:  70\n"
     ]
    }
   ],
   "source": [
    "batch_size = 16\n",
    "\n",
    "testDataLoader = torch.utils.data.DataLoader(datasetTest, \n",
    "                                             batch_size=batch_size, \n",
    "                                             shuffle=True, \n",
    "                                             num_workers=2)\n",
    "\n",
    "print('Numero di batch complessivi: ', len(testDataLoader))"
   ]
  },
  {
   "cell_type": "markdown",
   "id": "8afa5942",
   "metadata": {},
   "source": [
    "### Definizione e Caricamento Modello"
   ]
  },
  {
   "cell_type": "code",
   "execution_count": 7,
   "id": "f9dbd073",
   "metadata": {},
   "outputs": [],
   "source": [
    "CHECKPOINT = os.path.join(DRIVE_FOLDER, 'model.checkpoint')\n",
    "MODELFILE = os.path.join(DRIVE_FOLDER, 'model.pth')\n",
    "\n",
    "def load_model(model):\n",
    "    if os.path.exists(MODELFILE):\n",
    "        model.load_state_dict(torch.load(MODELFILE))\n",
    "        print(\"Caricamento modello avvenuto con successo!\")"
   ]
  },
  {
   "cell_type": "code",
   "execution_count": 8,
   "id": "0b94c3a6",
   "metadata": {},
   "outputs": [],
   "source": [
    "net = models.vgg19(pretrained = True)\n",
    "\n",
    "class Identity(nn.Module):\n",
    "    def __init__(self):\n",
    "        super().__init__()\n",
    "    def forward(self, x):\n",
    "        return x\n",
    "\n",
    "net.fc2 = Identity()\n",
    "\n",
    "fully_connected = nn.Sequential(\n",
    "    nn.Conv1d(20,20,kernel_size=(3),padding=1,stride=2),\n",
    "    nn.ReLU(),\n",
    "    nn.BatchNorm1d(20),\n",
    "    nn.Conv1d(20,32,kernel_size=(3),padding=1,stride=2),\n",
    "    nn.ReLU(),\n",
    "    nn.BatchNorm1d(32),\n",
    "    nn.MaxPool1d(2),\n",
    "    nn.Dropout(0.5),\n",
    "    nn.Conv1d(32,64,kernel_size=(3),padding=1,stride=2),\n",
    "    nn.ReLU(),\n",
    "    nn.BatchNorm1d(64),\n",
    "    nn.Conv1d(64,64,kernel_size=(3),padding=1,stride=2),\n",
    "    nn.ReLU(),\n",
    "    nn.BatchNorm1d(64),\n",
    "    nn.MaxPool1d(2),\n",
    "    nn.Dropout(0.5),\n",
    "    nn.Flatten(),\n",
    "    nn.Linear(1024,512),\n",
    "    nn.ReLU(),\n",
    "    nn.Dropout(0.4),\n",
    "    nn.Linear(512,85),\n",
    "    nn.Sigmoid()\n",
    ")"
   ]
  },
  {
   "cell_type": "code",
   "execution_count": 9,
   "id": "35830393",
   "metadata": {},
   "outputs": [],
   "source": [
    "class MyNet(nn.Module):\n",
    "    def __init__(self,backbone,fully_connected):\n",
    "        super().__init__()\n",
    "        self.backbone = backbone\n",
    "        self.fully_connected = fully_connected\n",
    "\n",
    "    def forward(self,x):\n",
    "        vector = torch.zeros((x.size(0),limit,1000))\n",
    "        i = 0\n",
    "        for trailer in x:\n",
    "            output = self.backbone(trailer) \n",
    "            vector[i] = output\n",
    "            i +=1\n",
    "        result = self.fully_connected(vector.to(device))\n",
    "        return result"
   ]
  },
  {
   "cell_type": "code",
   "execution_count": 10,
   "id": "601b12f1",
   "metadata": {},
   "outputs": [
    {
     "name": "stdout",
     "output_type": "stream",
     "text": [
      "Numero parametri model:  0\n"
     ]
    },
    {
     "data": {
      "text/plain": [
       "MyNet(\n",
       "  (backbone): VGG(\n",
       "    (features): Sequential(\n",
       "      (0): Conv2d(3, 64, kernel_size=(3, 3), stride=(1, 1), padding=(1, 1))\n",
       "      (1): ReLU(inplace=True)\n",
       "      (2): Conv2d(64, 64, kernel_size=(3, 3), stride=(1, 1), padding=(1, 1))\n",
       "      (3): ReLU(inplace=True)\n",
       "      (4): MaxPool2d(kernel_size=2, stride=2, padding=0, dilation=1, ceil_mode=False)\n",
       "      (5): Conv2d(64, 128, kernel_size=(3, 3), stride=(1, 1), padding=(1, 1))\n",
       "      (6): ReLU(inplace=True)\n",
       "      (7): Conv2d(128, 128, kernel_size=(3, 3), stride=(1, 1), padding=(1, 1))\n",
       "      (8): ReLU(inplace=True)\n",
       "      (9): MaxPool2d(kernel_size=2, stride=2, padding=0, dilation=1, ceil_mode=False)\n",
       "      (10): Conv2d(128, 256, kernel_size=(3, 3), stride=(1, 1), padding=(1, 1))\n",
       "      (11): ReLU(inplace=True)\n",
       "      (12): Conv2d(256, 256, kernel_size=(3, 3), stride=(1, 1), padding=(1, 1))\n",
       "      (13): ReLU(inplace=True)\n",
       "      (14): Conv2d(256, 256, kernel_size=(3, 3), stride=(1, 1), padding=(1, 1))\n",
       "      (15): ReLU(inplace=True)\n",
       "      (16): Conv2d(256, 256, kernel_size=(3, 3), stride=(1, 1), padding=(1, 1))\n",
       "      (17): ReLU(inplace=True)\n",
       "      (18): MaxPool2d(kernel_size=2, stride=2, padding=0, dilation=1, ceil_mode=False)\n",
       "      (19): Conv2d(256, 512, kernel_size=(3, 3), stride=(1, 1), padding=(1, 1))\n",
       "      (20): ReLU(inplace=True)\n",
       "      (21): Conv2d(512, 512, kernel_size=(3, 3), stride=(1, 1), padding=(1, 1))\n",
       "      (22): ReLU(inplace=True)\n",
       "      (23): Conv2d(512, 512, kernel_size=(3, 3), stride=(1, 1), padding=(1, 1))\n",
       "      (24): ReLU(inplace=True)\n",
       "      (25): Conv2d(512, 512, kernel_size=(3, 3), stride=(1, 1), padding=(1, 1))\n",
       "      (26): ReLU(inplace=True)\n",
       "      (27): MaxPool2d(kernel_size=2, stride=2, padding=0, dilation=1, ceil_mode=False)\n",
       "      (28): Conv2d(512, 512, kernel_size=(3, 3), stride=(1, 1), padding=(1, 1))\n",
       "      (29): ReLU(inplace=True)\n",
       "      (30): Conv2d(512, 512, kernel_size=(3, 3), stride=(1, 1), padding=(1, 1))\n",
       "      (31): ReLU(inplace=True)\n",
       "      (32): Conv2d(512, 512, kernel_size=(3, 3), stride=(1, 1), padding=(1, 1))\n",
       "      (33): ReLU(inplace=True)\n",
       "      (34): Conv2d(512, 512, kernel_size=(3, 3), stride=(1, 1), padding=(1, 1))\n",
       "      (35): ReLU(inplace=True)\n",
       "      (36): MaxPool2d(kernel_size=2, stride=2, padding=0, dilation=1, ceil_mode=False)\n",
       "    )\n",
       "    (avgpool): AdaptiveAvgPool2d(output_size=(7, 7))\n",
       "    (classifier): Sequential(\n",
       "      (0): Linear(in_features=25088, out_features=4096, bias=True)\n",
       "      (1): ReLU(inplace=True)\n",
       "      (2): Dropout(p=0.5, inplace=False)\n",
       "      (3): Linear(in_features=4096, out_features=4096, bias=True)\n",
       "      (4): ReLU(inplace=True)\n",
       "      (5): Dropout(p=0.5, inplace=False)\n",
       "      (6): Linear(in_features=4096, out_features=1000, bias=True)\n",
       "    )\n",
       "    (fc2): Identity()\n",
       "  )\n",
       "  (fully_connected): Sequential(\n",
       "    (0): Conv1d(20, 20, kernel_size=(3,), stride=(2,), padding=(1,))\n",
       "    (1): ReLU()\n",
       "    (2): BatchNorm1d(20, eps=1e-05, momentum=0.1, affine=True, track_running_stats=True)\n",
       "    (3): Conv1d(20, 32, kernel_size=(3,), stride=(2,), padding=(1,))\n",
       "    (4): ReLU()\n",
       "    (5): BatchNorm1d(32, eps=1e-05, momentum=0.1, affine=True, track_running_stats=True)\n",
       "    (6): MaxPool1d(kernel_size=2, stride=2, padding=0, dilation=1, ceil_mode=False)\n",
       "    (7): Dropout(p=0.5, inplace=False)\n",
       "    (8): Conv1d(32, 64, kernel_size=(3,), stride=(2,), padding=(1,))\n",
       "    (9): ReLU()\n",
       "    (10): BatchNorm1d(64, eps=1e-05, momentum=0.1, affine=True, track_running_stats=True)\n",
       "    (11): Conv1d(64, 64, kernel_size=(3,), stride=(2,), padding=(1,))\n",
       "    (12): ReLU()\n",
       "    (13): BatchNorm1d(64, eps=1e-05, momentum=0.1, affine=True, track_running_stats=True)\n",
       "    (14): MaxPool1d(kernel_size=2, stride=2, padding=0, dilation=1, ceil_mode=False)\n",
       "    (15): Dropout(p=0.5, inplace=False)\n",
       "    (16): Flatten(start_dim=1, end_dim=-1)\n",
       "    (17): Linear(in_features=1024, out_features=512, bias=True)\n",
       "    (18): ReLU()\n",
       "    (19): Dropout(p=0.4, inplace=False)\n",
       "    (20): Linear(in_features=512, out_features=85, bias=True)\n",
       "    (21): Sigmoid()\n",
       "  )\n",
       ")"
      ]
     },
     "execution_count": 10,
     "metadata": {},
     "output_type": "execute_result"
    }
   ],
   "source": [
    "model = MyNet(net,fully_connected)\n",
    "\n",
    "for params in model.parameters():\n",
    "  params.requires_grad = False\n",
    "\n",
    "model = model.to(device)\n",
    "\n",
    "print('Numero parametri model: ',count_parameters(model))\n",
    "\n",
    "model"
   ]
  },
  {
   "cell_type": "code",
   "execution_count": 11,
   "id": "ab84750c",
   "metadata": {},
   "outputs": [
    {
     "name": "stdout",
     "output_type": "stream",
     "text": [
      "Caricamento modello avvenuto con successo!\n"
     ]
    }
   ],
   "source": [
    "load_model(model)"
   ]
  },
  {
   "cell_type": "markdown",
   "id": "5cdfdd6f",
   "metadata": {},
   "source": [
    "### Testing del Modello Ottenuto"
   ]
  },
  {
   "cell_type": "code",
   "execution_count": 12,
   "id": "00276c9f",
   "metadata": {},
   "outputs": [
    {
     "name": "stdout",
     "output_type": "stream",
     "text": [
      "Start testing the model ( topk =  10 )\n",
      "Test END: -- m_precision =  0.17  -- m_recall =  0.6  -- m_f1 =  0.27\n",
      "\n",
      "Start testing the model ( topk =  7 )\n",
      "Test END: -- m_precision =  0.21  -- m_recall =  0.52  -- m_f1 =  0.3\n",
      "\n",
      "Start testing the model ( topk =  5 )\n",
      "Test END: -- m_precision =  0.25  -- m_recall =  0.43  -- m_f1 =  0.31\n",
      "\n"
     ]
    }
   ],
   "source": [
    "tk = [10, 7, 5]\n",
    "\n",
    "for i in range(len(tk)):\n",
    "    test(model, topk=tk[i])\n",
    "    print()"
   ]
  },
  {
   "cell_type": "code",
   "execution_count": 13,
   "id": "d602ee8f",
   "metadata": {},
   "outputs": [
    {
     "name": "stdout",
     "output_type": "stream",
     "text": [
      "                      precision    recall  f1-score   support\n",
      "\n",
      "                LGBT       0.08      0.72      0.14        61\n",
      "              action       0.22      0.94      0.36       191\n",
      "     action_comedies       0.00      0.00      0.00         6\n",
      "           adventure       0.13      0.76      0.22        75\n",
      "   alcohol_addiction       0.00      0.00      0.00         6\n",
      "               alien       0.00      0.00      0.00        12\n",
      "           animation       0.23      0.86      0.36        21\n",
      "            aviation       0.00      0.00      0.00        20\n",
      "        bank_robbery       0.00      0.00      0.00        19\n",
      "              biopic       0.09      0.32      0.14        59\n",
      "             cartoon       0.10      0.50      0.17         8\n",
      "               chase       0.29      0.12      0.17        16\n",
      "            children       0.13      0.25      0.17        12\n",
      "              comedy       0.19      0.99      0.32       211\n",
      "        comedy_drama       0.07      0.77      0.13        65\n",
      "       coming_of_age       0.40      0.18      0.25        11\n",
      "              creepy       0.00      0.00      0.00        10\n",
      "               crime       0.16      0.81      0.27       137\n",
      "                cult       0.00      0.00      0.00         7\n",
      "               death       0.00      0.00      0.00         7\n",
      "       death_penalty       0.00      0.00      0.00         8\n",
      "      disaster_movie       0.00      0.00      0.00        10\n",
      "         documentary       0.06      0.23      0.10        31\n",
      "               drama       0.50      0.99      0.67       546\n",
      "            dystopic       0.00      0.00      0.00        20\n",
      "     erotic_thriller       0.00      0.00      0.00         7\n",
      "           espionage       0.00      0.00      0.00        18\n",
      "              family       0.01      0.09      0.02        11\n",
      "             fantasy       0.13      0.87      0.23        98\n",
      "        fight_scenes       0.00      0.00      0.00        11\n",
      "          friendship       0.00      0.00      0.00         6\n",
      "          futuristic       0.00      0.00      0.00        20\n",
      "            gunfight       0.00      0.00      0.00         9\n",
      "         high_school       0.00      0.00      0.00        11\n",
      "             history       0.33      0.07      0.11        15\n",
      "              horror       0.18      0.79      0.29       136\n",
      "       horror_comedy       0.05      0.04      0.04        26\n",
      "          inbreeding       0.00      0.00      0.00        10\n",
      "             justice       0.00      0.00      0.00        10\n",
      "          loneliness       0.00      0.00      0.00         8\n",
      "                love       0.00      0.00      0.00        20\n",
      "               magic       0.00      0.00      0.00         8\n",
      "        martial_arts       0.00      0.00      0.00        18\n",
      "           melodrama       0.00      0.00      0.00         9\n",
      "            monsters       0.12      0.17      0.14        24\n",
      "              murder       0.00      0.00      0.00        11\n",
      "               music       0.00      0.00      0.00        10\n",
      "             musical       0.08      0.72      0.15        61\n",
      "             mystery       0.09      0.22      0.13        58\n",
      "            neo-noir       0.00      0.00      0.00        14\n",
      "                noir       0.19      0.24      0.21        25\n",
      "              nudity       0.00      0.00      0.00        10\n",
      "          parenthood       0.00      0.00      0.00         9\n",
      "             pirates       0.00      0.00      0.00         6\n",
      "police_investigation       0.00      0.00      0.00        10\n",
      "            politics       0.00      0.00      0.00        13\n",
      "         pornography       0.00      0.00      0.00         4\n",
      "              prison       0.00      0.00      0.00        15\n",
      "        prostitution       0.00      0.00      0.00         5\n",
      "            religion       0.00      0.00      0.00         7\n",
      "             revenge       1.00      0.05      0.10        19\n",
      "            romantic       0.09      0.84      0.16        99\n",
      "     romantic_comedy       0.13      0.84      0.23        86\n",
      "               scifi       0.17      0.74      0.28       111\n",
      "       serial_killer       0.19      0.13      0.15        23\n",
      "              sexual       0.10      0.17      0.12        23\n",
      "          small_town       0.00      0.00      0.00         9\n",
      "               space       0.08      0.06      0.07        16\n",
      "            splatter       0.01      0.04      0.02        25\n",
      "               sport       0.04      0.17      0.06        12\n",
      "          super_hero       0.00      0.00      0.00         9\n",
      "        supernatural       0.40      0.08      0.13        25\n",
      "             surreal       0.06      0.12      0.08         8\n",
      "         suspenseful       0.00      0.00      0.00        14\n",
      "          teen_movie       0.04      0.08      0.05        24\n",
      "           terrorism       0.20      0.07      0.11        14\n",
      "            thriller       0.21      0.62      0.32       139\n",
      "         time_travel       0.00      0.00      0.00        12\n",
      "          true_story       0.00      0.00      0.00        10\n",
      "            vampires       0.09      0.08      0.09        12\n",
      "            violence       0.00      0.00      0.00        20\n",
      "                 war       0.18      0.31      0.23        58\n",
      "             wartime       0.19      0.51      0.27        49\n",
      "             western       0.11      0.61      0.19        33\n",
      "             zombies       0.00      0.00      0.00        15\n",
      "\n",
      "           micro avg       0.17      0.60      0.27      3167\n",
      "           macro avg       0.08      0.20      0.09      3167\n",
      "        weighted avg       0.20      0.60      0.27      3167\n",
      "         samples avg       0.17      0.65      0.26      3167\n",
      "\n"
     ]
    }
   ],
   "source": [
    "topk=10\n",
    "predictions = []\n",
    "y_true = []\n",
    "\n",
    "model.eval()\n",
    "\n",
    "with torch.no_grad():\n",
    "    for inputs, labels in testDataLoader:\n",
    "        inputs = inputs.to(device)\n",
    "\n",
    "        y_pred = model(inputs)\n",
    "\n",
    "        _, idx = y_pred.topk(topk, dim=1)\n",
    "\n",
    "        y_pred = torch.zeros_like(y_pred)\n",
    "        y_pred.scatter_(1, idx, 1)\n",
    "        predictions.append(y_pred.cpu())\n",
    "\n",
    "        y_true.append(labels.cpu())\n",
    "\n",
    "\n",
    "y_true, predictions = torch.cat(y_true, axis=0), torch.cat(predictions, axis=0)\n",
    "report = classification_report(y_true, predictions, \n",
    "                               target_names=list(sorted(label_idx.keys())),zero_division=0)\n",
    "print(report)"
   ]
  },
  {
   "cell_type": "markdown",
   "id": "b0a6f372",
   "metadata": {},
   "source": [
    "Risultati ottenuti: micro average f1 score 0.27 con 41 classi con f1 score maggiore di 0."
   ]
  }
 ],
 "metadata": {
  "kernelspec": {
   "display_name": "Python 3",
   "language": "python",
   "name": "python3"
  },
  "language_info": {
   "codemirror_mode": {
    "name": "ipython",
    "version": 3
   },
   "file_extension": ".py",
   "mimetype": "text/x-python",
   "name": "python",
   "nbconvert_exporter": "python",
   "pygments_lexer": "ipython3",
   "version": "3.7.10"
  }
 },
 "nbformat": 4,
 "nbformat_minor": 5
}
